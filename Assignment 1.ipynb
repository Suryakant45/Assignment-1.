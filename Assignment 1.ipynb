{
 "cells": [
  {
   "cell_type": "markdown",
   "id": "ef5ea5ff-a1bc-4927-ae2b-a2d19fb19662",
   "metadata": {},
   "source": [
    "Q-1] In the below elements which of them are values or an expression? eg:-values can be integer or strings and expression will be mathematical operators.\n"
   ]
  },
  {
   "cell_type": "markdown",
   "id": "bdb30d4f-9f97-47c1-8677-19511b3f758c",
   "metadata": {},
   "source": [
    "Ans:-The operators are +, -, *, and /.\n",
    "    The values are 'hello',-88.8, and 5."
   ]
  },
  {
   "cell_type": "markdown",
   "id": "6a106317-5392-47a2-a7ca-9d6c5391638a",
   "metadata": {},
   "source": [
    "Q-2] What is the difference between string and variable?"
   ]
  },
  {
   "cell_type": "markdown",
   "id": "186d9fc5-712f-4105-8048-243b13a28431",
   "metadata": {},
   "source": [
    "Ans :- The String is 'spam';the variable is spam. Strings always start and end with quotes."
   ]
  },
  {
   "cell_type": "markdown",
   "id": "c32cca3a-ef18-45d3-9f43-55d48c72c1fb",
   "metadata": {},
   "source": [
    "Q-3] Describe three different data types?\n",
    "\n",
    "Ans:- The three data types introduced in this chapter are integers,floating-point numbers, and strings."
   ]
  },
  {
   "cell_type": "markdown",
   "id": "694fa509-4dd2-4407-b851-0cebeec83019",
   "metadata": {},
   "source": [
    "Q-4] What is an expression made up of? What do all expression do?"
   ]
  },
  {
   "cell_type": "markdown",
   "id": "b8d130b0-5a64-45e6-bdfa-aace1c2e22a2",
   "metadata": {},
   "source": [
    "Ans:- An expression is a combination of values and operators. All expression evaluate (that is, reduce) to a single value."
   ]
  },
  {
   "cell_type": "markdown",
   "id": "df32200a-7c52-4c91-8356-df23997db655",
   "metadata": {},
   "source": [
    "Q-5] This assignment statements, like spam =10. What is the difference between an expression and a statement?"
   ]
  },
  {
   "cell_type": "markdown",
   "id": "984e4795-924a-4966-9327-a9458d07b867",
   "metadata": {},
   "source": [
    "Ans:- An expression  evaluates to a single value. A statement does not"
   ]
  },
  {
   "cell_type": "raw",
   "id": "45704642-6720-4f7b-9c92-7b7ad23328ae",
   "metadata": {},
   "source": [
    "Q-6]After running the following code , what does the variable bacon contain?\n",
    "    bacon = 22   bacon +1"
   ]
  },
  {
   "cell_type": "markdown",
   "id": "77eeaa87-c247-41e8-8113-ee2b363f552a",
   "metadata": {},
   "source": [
    "Ans:- The bacon variable is set to 20. The bacon +1 expression does not reassign the value in bacon (that would need an assignment statement : bacon = bacon+1)"
   ]
  },
  {
   "cell_type": "markdown",
   "id": "8cb03655-b07a-4b5d-a8d6-c2d140eff3c9",
   "metadata": {},
   "source": [
    "Q-7]What should the values of the following two term be?    "
   ]
  },
  {
   "cell_type": "code",
   "execution_count": 6,
   "id": "1712b25a-5741-47e6-b58c-a287f018d6a1",
   "metadata": {},
   "outputs": [
    {
     "data": {
      "text/plain": [
       "'spamspamspam'"
      ]
     },
     "execution_count": 6,
     "metadata": {},
     "output_type": "execute_result"
    }
   ],
   "source": [
    "Ans: 'spam' + 'spamspam'\n",
    "'spam' * 3\n",
    "# Both expression evaluate to string'spamspamspam'.    "
   ]
  },
  {
   "cell_type": "markdown",
   "id": "d827b325-588d-4ca3-bd86-028e353edf0d",
   "metadata": {},
   "source": [
    "Q-8]Why is eggs a valid variable  name while 100 is invalid?"
   ]
  },
  {
   "cell_type": "markdown",
   "id": "005bb3af-d8d4-41ed-99b8-fba31f3d64bb",
   "metadata": {},
   "source": [
    "Ans:- Variable names cannot begin with a number."
   ]
  },
  {
   "cell_type": "markdown",
   "id": "e47dc7f9-d3e3-450a-816b-970201d01896",
   "metadata": {},
   "source": [
    "Q-9]What three functions can be used to get the integer, floating-point number, or string version of a value?"
   ]
  },
  {
   "cell_type": "markdown",
   "id": "9f3d3396-d8a8-4f01-978e-0b1b7ef74998",
   "metadata": {},
   "source": [
    "Ans:-The int(),float(), and str() function will evaluate to the integer, floating-point number, and string versions od the value passed to them."
   ]
  },
  {
   "cell_type": "markdown",
   "id": "c67fc627-120c-43eb-97b5-ea023cd01ba8",
   "metadata": {},
   "source": [
    "Q-10]Why does this expression cause an error? How can you fix it?\n"
   ]
  },
  {
   "cell_type": "markdown",
   "id": "1166fa5f-22da-48dd-b715-a7eafa98d030",
   "metadata": {},
   "source": [
    "Ans:-The expression couses an error because 99 is an integer,and only strings can be concatenated to other strings with the + operator. "
   ]
  },
  {
   "cell_type": "code",
   "execution_count": 8,
   "id": "08edab49-a723-4aa6-9832-2951c60863ae",
   "metadata": {},
   "outputs": [
    {
     "data": {
      "text/plain": [
       "'I have eaten  99  burritos.'"
      ]
     },
     "execution_count": 8,
     "metadata": {},
     "output_type": "execute_result"
    }
   ],
   "source": [
    "# The correct way is \n",
    "'I have eaten  ' + str(99) + '  burritos.'"
   ]
  },
  {
   "cell_type": "code",
   "execution_count": null,
   "id": "e07283fa-44dc-4d81-87c0-bc7f9e827c35",
   "metadata": {},
   "outputs": [],
   "source": []
  }
 ],
 "metadata": {
  "kernelspec": {
   "display_name": "Python 3 (ipykernel)",
   "language": "python",
   "name": "python3"
  },
  "language_info": {
   "codemirror_mode": {
    "name": "ipython",
    "version": 3
   },
   "file_extension": ".py",
   "mimetype": "text/x-python",
   "name": "python",
   "nbconvert_exporter": "python",
   "pygments_lexer": "ipython3",
   "version": "3.10.6"
  }
 },
 "nbformat": 4,
 "nbformat_minor": 5
}
